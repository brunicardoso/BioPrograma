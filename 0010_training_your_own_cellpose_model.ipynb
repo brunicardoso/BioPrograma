{
 "cells": [
  {
   "cell_type": "code",
   "execution_count": 1,
   "id": "9c9842f2",
   "metadata": {},
   "outputs": [],
   "source": [
    "#import libraries\n",
    "from pathlib import Path\n",
    "import os\n",
    "import napari\n",
    "from napari.utils.notebook_display import nbscreenshot\n",
    "import numpy as np\n",
    "from skimage.io import imread, imshow, imsave \n",
    "import glob\n",
    "from cellpose import models, io"
   ]
  },
  {
   "cell_type": "code",
   "execution_count": 14,
   "id": "8617c627-a1d1-49f4-bd8c-c0e97582ba1e",
   "metadata": {},
   "outputs": [],
   "source": [
    "#code for converting .Bmp files to .tiff files\n",
    "tiff_files = np.sort(glob.glob('BBBC014_v1_images/*Channel 2*.Bmp'))\n",
    "output_folder = 'images_and_model/'\n",
    "if not os.path.exists(output_folder):\n",
    "    os.makedirs(output_folder)\n",
    "for i in tiff_files:\n",
    "    image = imread(i)\n",
    "    output_path = os.path.join(output_folder, f\"{os.path.splitext(os.path.basename(i))[0]}.tiff\")\n",
    "    imsave(output_path, image)\n",
    "    "
   ]
  },
  {
   "cell_type": "code",
   "execution_count": 17,
   "id": "fed8c558",
   "metadata": {
    "scrolled": true
   },
   "outputs": [
    {
     "name": "stdout",
     "output_type": "stream",
     "text": [
      "Processing image: images_and_model\\Channel 2-01-A-01-00.tiff\n"
     ]
    },
    {
     "name": "stderr",
     "output_type": "stream",
     "text": [
      "C:\\Users\\bruni\\AppData\\Local\\Temp\\ipykernel_10628\\3275691509.py:23: UserWarning: cellpose_label_images/Channel 2-01-A-01-00_cellpose.tiff is a low contrast image\n",
      "  imsave(output_path, label_image)\n"
     ]
    },
    {
     "name": "stdout",
     "output_type": "stream",
     "text": [
      "Saved label to: cellpose_label_images/Channel 2-01-A-01-00_cellpose.tiff\n",
      "Processing image: images_and_model\\Channel 2-02-A-02-00.tiff\n"
     ]
    },
    {
     "name": "stderr",
     "output_type": "stream",
     "text": [
      "C:\\Users\\bruni\\AppData\\Local\\Temp\\ipykernel_10628\\3275691509.py:23: UserWarning: cellpose_label_images/Channel 2-02-A-02-00_cellpose.tiff is a low contrast image\n",
      "  imsave(output_path, label_image)\n"
     ]
    },
    {
     "name": "stdout",
     "output_type": "stream",
     "text": [
      "Saved label to: cellpose_label_images/Channel 2-02-A-02-00_cellpose.tiff\n",
      "Processing image: images_and_model\\Channel 2-03-A-03-00.tiff\n"
     ]
    },
    {
     "name": "stderr",
     "output_type": "stream",
     "text": [
      "C:\\Users\\bruni\\AppData\\Local\\Temp\\ipykernel_10628\\3275691509.py:23: UserWarning: cellpose_label_images/Channel 2-03-A-03-00_cellpose.tiff is a low contrast image\n",
      "  imsave(output_path, label_image)\n"
     ]
    },
    {
     "name": "stdout",
     "output_type": "stream",
     "text": [
      "Saved label to: cellpose_label_images/Channel 2-03-A-03-00_cellpose.tiff\n",
      "Processing image: images_and_model\\Channel 2-04-A-04-00.tiff\n"
     ]
    },
    {
     "name": "stderr",
     "output_type": "stream",
     "text": [
      "C:\\Users\\bruni\\AppData\\Local\\Temp\\ipykernel_10628\\3275691509.py:23: UserWarning: cellpose_label_images/Channel 2-04-A-04-00_cellpose.tiff is a low contrast image\n",
      "  imsave(output_path, label_image)\n"
     ]
    },
    {
     "name": "stdout",
     "output_type": "stream",
     "text": [
      "Saved label to: cellpose_label_images/Channel 2-04-A-04-00_cellpose.tiff\n",
      "Processing image: images_and_model\\Channel 2-05-A-05-00.tiff\n"
     ]
    },
    {
     "name": "stderr",
     "output_type": "stream",
     "text": [
      "C:\\Users\\bruni\\AppData\\Local\\Temp\\ipykernel_10628\\3275691509.py:23: UserWarning: cellpose_label_images/Channel 2-05-A-05-00_cellpose.tiff is a low contrast image\n",
      "  imsave(output_path, label_image)\n"
     ]
    },
    {
     "name": "stdout",
     "output_type": "stream",
     "text": [
      "Saved label to: cellpose_label_images/Channel 2-05-A-05-00_cellpose.tiff\n",
      "Processing image: images_and_model\\Channel 2-06-A-06-00.tiff\n"
     ]
    },
    {
     "name": "stderr",
     "output_type": "stream",
     "text": [
      "C:\\Users\\bruni\\AppData\\Local\\Temp\\ipykernel_10628\\3275691509.py:23: UserWarning: cellpose_label_images/Channel 2-06-A-06-00_cellpose.tiff is a low contrast image\n",
      "  imsave(output_path, label_image)\n"
     ]
    },
    {
     "name": "stdout",
     "output_type": "stream",
     "text": [
      "Saved label to: cellpose_label_images/Channel 2-06-A-06-00_cellpose.tiff\n",
      "Processing image: images_and_model\\Channel 2-07-A-07-00.tiff\n"
     ]
    },
    {
     "name": "stderr",
     "output_type": "stream",
     "text": [
      "C:\\Users\\bruni\\AppData\\Local\\Temp\\ipykernel_10628\\3275691509.py:23: UserWarning: cellpose_label_images/Channel 2-07-A-07-00_cellpose.tiff is a low contrast image\n",
      "  imsave(output_path, label_image)\n"
     ]
    },
    {
     "name": "stdout",
     "output_type": "stream",
     "text": [
      "Saved label to: cellpose_label_images/Channel 2-07-A-07-00_cellpose.tiff\n",
      "Processing image: images_and_model\\Channel 2-08-A-08-00.tiff\n"
     ]
    },
    {
     "name": "stderr",
     "output_type": "stream",
     "text": [
      "C:\\Users\\bruni\\AppData\\Local\\Temp\\ipykernel_10628\\3275691509.py:23: UserWarning: cellpose_label_images/Channel 2-08-A-08-00_cellpose.tiff is a low contrast image\n",
      "  imsave(output_path, label_image)\n"
     ]
    },
    {
     "name": "stdout",
     "output_type": "stream",
     "text": [
      "Saved label to: cellpose_label_images/Channel 2-08-A-08-00_cellpose.tiff\n",
      "Processing image: images_and_model\\Channel 2-09-A-09-00.tiff\n"
     ]
    },
    {
     "name": "stderr",
     "output_type": "stream",
     "text": [
      "C:\\Users\\bruni\\AppData\\Local\\Temp\\ipykernel_10628\\3275691509.py:23: UserWarning: cellpose_label_images/Channel 2-09-A-09-00_cellpose.tiff is a low contrast image\n",
      "  imsave(output_path, label_image)\n"
     ]
    },
    {
     "name": "stdout",
     "output_type": "stream",
     "text": [
      "Saved label to: cellpose_label_images/Channel 2-09-A-09-00_cellpose.tiff\n",
      "Processing image: images_and_model\\Channel 2-10-A-10-00.tiff\n"
     ]
    },
    {
     "name": "stderr",
     "output_type": "stream",
     "text": [
      "C:\\Users\\bruni\\AppData\\Local\\Temp\\ipykernel_10628\\3275691509.py:23: UserWarning: cellpose_label_images/Channel 2-10-A-10-00_cellpose.tiff is a low contrast image\n",
      "  imsave(output_path, label_image)\n"
     ]
    },
    {
     "name": "stdout",
     "output_type": "stream",
     "text": [
      "Saved label to: cellpose_label_images/Channel 2-10-A-10-00_cellpose.tiff\n",
      "Processing image: images_and_model\\Channel 2-11-A-11-00.tiff\n"
     ]
    },
    {
     "name": "stderr",
     "output_type": "stream",
     "text": [
      "C:\\Users\\bruni\\AppData\\Local\\Temp\\ipykernel_10628\\3275691509.py:23: UserWarning: cellpose_label_images/Channel 2-11-A-11-00_cellpose.tiff is a low contrast image\n",
      "  imsave(output_path, label_image)\n"
     ]
    },
    {
     "name": "stdout",
     "output_type": "stream",
     "text": [
      "Saved label to: cellpose_label_images/Channel 2-11-A-11-00_cellpose.tiff\n",
      "Processing image: images_and_model\\Channel 2-12-A-12-00.tiff\n"
     ]
    },
    {
     "name": "stderr",
     "output_type": "stream",
     "text": [
      "C:\\Users\\bruni\\AppData\\Local\\Temp\\ipykernel_10628\\3275691509.py:23: UserWarning: cellpose_label_images/Channel 2-12-A-12-00_cellpose.tiff is a low contrast image\n",
      "  imsave(output_path, label_image)\n"
     ]
    },
    {
     "name": "stdout",
     "output_type": "stream",
     "text": [
      "Saved label to: cellpose_label_images/Channel 2-12-A-12-00_cellpose.tiff\n",
      "Processing image: images_and_model\\Channel 2-13-B-01-00.tiff\n"
     ]
    },
    {
     "name": "stderr",
     "output_type": "stream",
     "text": [
      "C:\\Users\\bruni\\AppData\\Local\\Temp\\ipykernel_10628\\3275691509.py:23: UserWarning: cellpose_label_images/Channel 2-13-B-01-00_cellpose.tiff is a low contrast image\n",
      "  imsave(output_path, label_image)\n"
     ]
    },
    {
     "name": "stdout",
     "output_type": "stream",
     "text": [
      "Saved label to: cellpose_label_images/Channel 2-13-B-01-00_cellpose.tiff\n",
      "Processing image: images_and_model\\Channel 2-14-B-02-00.tiff\n"
     ]
    },
    {
     "name": "stderr",
     "output_type": "stream",
     "text": [
      "C:\\Users\\bruni\\AppData\\Local\\Temp\\ipykernel_10628\\3275691509.py:23: UserWarning: cellpose_label_images/Channel 2-14-B-02-00_cellpose.tiff is a low contrast image\n",
      "  imsave(output_path, label_image)\n"
     ]
    },
    {
     "name": "stdout",
     "output_type": "stream",
     "text": [
      "Saved label to: cellpose_label_images/Channel 2-14-B-02-00_cellpose.tiff\n",
      "Processing image: images_and_model\\Channel 2-15-B-03-00.tiff\n"
     ]
    },
    {
     "name": "stderr",
     "output_type": "stream",
     "text": [
      "C:\\Users\\bruni\\AppData\\Local\\Temp\\ipykernel_10628\\3275691509.py:23: UserWarning: cellpose_label_images/Channel 2-15-B-03-00_cellpose.tiff is a low contrast image\n",
      "  imsave(output_path, label_image)\n"
     ]
    },
    {
     "name": "stdout",
     "output_type": "stream",
     "text": [
      "Saved label to: cellpose_label_images/Channel 2-15-B-03-00_cellpose.tiff\n",
      "Processing image: images_and_model\\Channel 2-16-B-04-00.tiff\n"
     ]
    },
    {
     "name": "stderr",
     "output_type": "stream",
     "text": [
      "C:\\Users\\bruni\\AppData\\Local\\Temp\\ipykernel_10628\\3275691509.py:23: UserWarning: cellpose_label_images/Channel 2-16-B-04-00_cellpose.tiff is a low contrast image\n",
      "  imsave(output_path, label_image)\n"
     ]
    },
    {
     "name": "stdout",
     "output_type": "stream",
     "text": [
      "Saved label to: cellpose_label_images/Channel 2-16-B-04-00_cellpose.tiff\n",
      "Processing image: images_and_model\\Channel 2-17-B-05-00.tiff\n"
     ]
    },
    {
     "name": "stderr",
     "output_type": "stream",
     "text": [
      "C:\\Users\\bruni\\AppData\\Local\\Temp\\ipykernel_10628\\3275691509.py:23: UserWarning: cellpose_label_images/Channel 2-17-B-05-00_cellpose.tiff is a low contrast image\n",
      "  imsave(output_path, label_image)\n"
     ]
    },
    {
     "name": "stdout",
     "output_type": "stream",
     "text": [
      "Saved label to: cellpose_label_images/Channel 2-17-B-05-00_cellpose.tiff\n",
      "Processing image: images_and_model\\Channel 2-18-B-06-00.tiff\n"
     ]
    },
    {
     "name": "stderr",
     "output_type": "stream",
     "text": [
      "C:\\Users\\bruni\\AppData\\Local\\Temp\\ipykernel_10628\\3275691509.py:23: UserWarning: cellpose_label_images/Channel 2-18-B-06-00_cellpose.tiff is a low contrast image\n",
      "  imsave(output_path, label_image)\n"
     ]
    },
    {
     "name": "stdout",
     "output_type": "stream",
     "text": [
      "Saved label to: cellpose_label_images/Channel 2-18-B-06-00_cellpose.tiff\n",
      "Processing image: images_and_model\\Channel 2-19-B-07-00.tiff\n"
     ]
    },
    {
     "name": "stderr",
     "output_type": "stream",
     "text": [
      "C:\\Users\\bruni\\AppData\\Local\\Temp\\ipykernel_10628\\3275691509.py:23: UserWarning: cellpose_label_images/Channel 2-19-B-07-00_cellpose.tiff is a low contrast image\n",
      "  imsave(output_path, label_image)\n"
     ]
    },
    {
     "name": "stdout",
     "output_type": "stream",
     "text": [
      "Saved label to: cellpose_label_images/Channel 2-19-B-07-00_cellpose.tiff\n",
      "Processing image: images_and_model\\Channel 2-20-B-08-00.tiff\n"
     ]
    },
    {
     "name": "stderr",
     "output_type": "stream",
     "text": [
      "C:\\Users\\bruni\\AppData\\Local\\Temp\\ipykernel_10628\\3275691509.py:23: UserWarning: cellpose_label_images/Channel 2-20-B-08-00_cellpose.tiff is a low contrast image\n",
      "  imsave(output_path, label_image)\n"
     ]
    },
    {
     "name": "stdout",
     "output_type": "stream",
     "text": [
      "Saved label to: cellpose_label_images/Channel 2-20-B-08-00_cellpose.tiff\n",
      "Processing image: images_and_model\\Channel 2-21-B-09-00.tiff\n"
     ]
    },
    {
     "name": "stderr",
     "output_type": "stream",
     "text": [
      "C:\\Users\\bruni\\AppData\\Local\\Temp\\ipykernel_10628\\3275691509.py:23: UserWarning: cellpose_label_images/Channel 2-21-B-09-00_cellpose.tiff is a low contrast image\n",
      "  imsave(output_path, label_image)\n"
     ]
    },
    {
     "name": "stdout",
     "output_type": "stream",
     "text": [
      "Saved label to: cellpose_label_images/Channel 2-21-B-09-00_cellpose.tiff\n",
      "Processing image: images_and_model\\Channel 2-22-B-10-00.tiff\n"
     ]
    },
    {
     "name": "stderr",
     "output_type": "stream",
     "text": [
      "C:\\Users\\bruni\\AppData\\Local\\Temp\\ipykernel_10628\\3275691509.py:23: UserWarning: cellpose_label_images/Channel 2-22-B-10-00_cellpose.tiff is a low contrast image\n",
      "  imsave(output_path, label_image)\n"
     ]
    },
    {
     "name": "stdout",
     "output_type": "stream",
     "text": [
      "Saved label to: cellpose_label_images/Channel 2-22-B-10-00_cellpose.tiff\n",
      "Processing image: images_and_model\\Channel 2-23-B-11-00.tiff\n"
     ]
    },
    {
     "name": "stderr",
     "output_type": "stream",
     "text": [
      "C:\\Users\\bruni\\AppData\\Local\\Temp\\ipykernel_10628\\3275691509.py:23: UserWarning: cellpose_label_images/Channel 2-23-B-11-00_cellpose.tiff is a low contrast image\n",
      "  imsave(output_path, label_image)\n"
     ]
    },
    {
     "name": "stdout",
     "output_type": "stream",
     "text": [
      "Saved label to: cellpose_label_images/Channel 2-23-B-11-00_cellpose.tiff\n",
      "Processing image: images_and_model\\Channel 2-24-B-12-00.tiff\n"
     ]
    },
    {
     "name": "stderr",
     "output_type": "stream",
     "text": [
      "C:\\Users\\bruni\\AppData\\Local\\Temp\\ipykernel_10628\\3275691509.py:23: UserWarning: cellpose_label_images/Channel 2-24-B-12-00_cellpose.tiff is a low contrast image\n",
      "  imsave(output_path, label_image)\n"
     ]
    },
    {
     "name": "stdout",
     "output_type": "stream",
     "text": [
      "Saved label to: cellpose_label_images/Channel 2-24-B-12-00_cellpose.tiff\n",
      "Processing image: images_and_model\\Channel 2-25-C-01-00.tiff\n"
     ]
    },
    {
     "name": "stderr",
     "output_type": "stream",
     "text": [
      "C:\\Users\\bruni\\AppData\\Local\\Temp\\ipykernel_10628\\3275691509.py:23: UserWarning: cellpose_label_images/Channel 2-25-C-01-00_cellpose.tiff is a low contrast image\n",
      "  imsave(output_path, label_image)\n"
     ]
    },
    {
     "name": "stdout",
     "output_type": "stream",
     "text": [
      "Saved label to: cellpose_label_images/Channel 2-25-C-01-00_cellpose.tiff\n",
      "Processing image: images_and_model\\Channel 2-26-C-02-00.tiff\n"
     ]
    },
    {
     "name": "stderr",
     "output_type": "stream",
     "text": [
      "C:\\Users\\bruni\\AppData\\Local\\Temp\\ipykernel_10628\\3275691509.py:23: UserWarning: cellpose_label_images/Channel 2-26-C-02-00_cellpose.tiff is a low contrast image\n",
      "  imsave(output_path, label_image)\n"
     ]
    },
    {
     "name": "stdout",
     "output_type": "stream",
     "text": [
      "Saved label to: cellpose_label_images/Channel 2-26-C-02-00_cellpose.tiff\n",
      "Processing image: images_and_model\\Channel 2-27-C-03-00.tiff\n"
     ]
    },
    {
     "name": "stderr",
     "output_type": "stream",
     "text": [
      "C:\\Users\\bruni\\AppData\\Local\\Temp\\ipykernel_10628\\3275691509.py:23: UserWarning: cellpose_label_images/Channel 2-27-C-03-00_cellpose.tiff is a low contrast image\n",
      "  imsave(output_path, label_image)\n"
     ]
    },
    {
     "name": "stdout",
     "output_type": "stream",
     "text": [
      "Saved label to: cellpose_label_images/Channel 2-27-C-03-00_cellpose.tiff\n",
      "Processing image: images_and_model\\Channel 2-28-C-04-00.tiff\n"
     ]
    },
    {
     "name": "stderr",
     "output_type": "stream",
     "text": [
      "C:\\Users\\bruni\\AppData\\Local\\Temp\\ipykernel_10628\\3275691509.py:23: UserWarning: cellpose_label_images/Channel 2-28-C-04-00_cellpose.tiff is a low contrast image\n",
      "  imsave(output_path, label_image)\n"
     ]
    },
    {
     "name": "stdout",
     "output_type": "stream",
     "text": [
      "Saved label to: cellpose_label_images/Channel 2-28-C-04-00_cellpose.tiff\n",
      "Processing image: images_and_model\\Channel 2-29-C-05-00.tiff\n"
     ]
    },
    {
     "name": "stderr",
     "output_type": "stream",
     "text": [
      "C:\\Users\\bruni\\AppData\\Local\\Temp\\ipykernel_10628\\3275691509.py:23: UserWarning: cellpose_label_images/Channel 2-29-C-05-00_cellpose.tiff is a low contrast image\n",
      "  imsave(output_path, label_image)\n"
     ]
    },
    {
     "name": "stdout",
     "output_type": "stream",
     "text": [
      "Saved label to: cellpose_label_images/Channel 2-29-C-05-00_cellpose.tiff\n",
      "Processing image: images_and_model\\Channel 2-30-C-06-00.tiff\n"
     ]
    },
    {
     "name": "stderr",
     "output_type": "stream",
     "text": [
      "C:\\Users\\bruni\\AppData\\Local\\Temp\\ipykernel_10628\\3275691509.py:23: UserWarning: cellpose_label_images/Channel 2-30-C-06-00_cellpose.tiff is a low contrast image\n",
      "  imsave(output_path, label_image)\n"
     ]
    },
    {
     "name": "stdout",
     "output_type": "stream",
     "text": [
      "Saved label to: cellpose_label_images/Channel 2-30-C-06-00_cellpose.tiff\n",
      "Processing image: images_and_model\\Channel 2-31-C-07-00.tiff\n"
     ]
    },
    {
     "name": "stderr",
     "output_type": "stream",
     "text": [
      "C:\\Users\\bruni\\AppData\\Local\\Temp\\ipykernel_10628\\3275691509.py:23: UserWarning: cellpose_label_images/Channel 2-31-C-07-00_cellpose.tiff is a low contrast image\n",
      "  imsave(output_path, label_image)\n"
     ]
    },
    {
     "name": "stdout",
     "output_type": "stream",
     "text": [
      "Saved label to: cellpose_label_images/Channel 2-31-C-07-00_cellpose.tiff\n",
      "Processing image: images_and_model\\Channel 2-32-C-08-00.tiff\n"
     ]
    },
    {
     "name": "stderr",
     "output_type": "stream",
     "text": [
      "C:\\Users\\bruni\\AppData\\Local\\Temp\\ipykernel_10628\\3275691509.py:23: UserWarning: cellpose_label_images/Channel 2-32-C-08-00_cellpose.tiff is a low contrast image\n",
      "  imsave(output_path, label_image)\n"
     ]
    },
    {
     "name": "stdout",
     "output_type": "stream",
     "text": [
      "Saved label to: cellpose_label_images/Channel 2-32-C-08-00_cellpose.tiff\n",
      "Processing image: images_and_model\\Channel 2-33-C-09-00.tiff\n"
     ]
    },
    {
     "name": "stderr",
     "output_type": "stream",
     "text": [
      "C:\\Users\\bruni\\AppData\\Local\\Temp\\ipykernel_10628\\3275691509.py:23: UserWarning: cellpose_label_images/Channel 2-33-C-09-00_cellpose.tiff is a low contrast image\n",
      "  imsave(output_path, label_image)\n"
     ]
    },
    {
     "name": "stdout",
     "output_type": "stream",
     "text": [
      "Saved label to: cellpose_label_images/Channel 2-33-C-09-00_cellpose.tiff\n",
      "Processing image: images_and_model\\Channel 2-34-C-10-00.tiff\n"
     ]
    },
    {
     "name": "stderr",
     "output_type": "stream",
     "text": [
      "C:\\Users\\bruni\\AppData\\Local\\Temp\\ipykernel_10628\\3275691509.py:23: UserWarning: cellpose_label_images/Channel 2-34-C-10-00_cellpose.tiff is a low contrast image\n",
      "  imsave(output_path, label_image)\n"
     ]
    },
    {
     "name": "stdout",
     "output_type": "stream",
     "text": [
      "Saved label to: cellpose_label_images/Channel 2-34-C-10-00_cellpose.tiff\n",
      "Processing image: images_and_model\\Channel 2-35-C-11-00.tiff\n"
     ]
    },
    {
     "name": "stderr",
     "output_type": "stream",
     "text": [
      "C:\\Users\\bruni\\AppData\\Local\\Temp\\ipykernel_10628\\3275691509.py:23: UserWarning: cellpose_label_images/Channel 2-35-C-11-00_cellpose.tiff is a low contrast image\n",
      "  imsave(output_path, label_image)\n"
     ]
    },
    {
     "name": "stdout",
     "output_type": "stream",
     "text": [
      "Saved label to: cellpose_label_images/Channel 2-35-C-11-00_cellpose.tiff\n",
      "Processing image: images_and_model\\Channel 2-36-C-12-00.tiff\n"
     ]
    },
    {
     "name": "stderr",
     "output_type": "stream",
     "text": [
      "C:\\Users\\bruni\\AppData\\Local\\Temp\\ipykernel_10628\\3275691509.py:23: UserWarning: cellpose_label_images/Channel 2-36-C-12-00_cellpose.tiff is a low contrast image\n",
      "  imsave(output_path, label_image)\n"
     ]
    },
    {
     "name": "stdout",
     "output_type": "stream",
     "text": [
      "Saved label to: cellpose_label_images/Channel 2-36-C-12-00_cellpose.tiff\n",
      "Processing image: images_and_model\\Channel 2-37-D-01-00.tiff\n"
     ]
    },
    {
     "name": "stderr",
     "output_type": "stream",
     "text": [
      "C:\\Users\\bruni\\AppData\\Local\\Temp\\ipykernel_10628\\3275691509.py:23: UserWarning: cellpose_label_images/Channel 2-37-D-01-00_cellpose.tiff is a low contrast image\n",
      "  imsave(output_path, label_image)\n"
     ]
    },
    {
     "name": "stdout",
     "output_type": "stream",
     "text": [
      "Saved label to: cellpose_label_images/Channel 2-37-D-01-00_cellpose.tiff\n",
      "Processing image: images_and_model\\Channel 2-38-D-02-00.tiff\n"
     ]
    },
    {
     "name": "stderr",
     "output_type": "stream",
     "text": [
      "C:\\Users\\bruni\\AppData\\Local\\Temp\\ipykernel_10628\\3275691509.py:23: UserWarning: cellpose_label_images/Channel 2-38-D-02-00_cellpose.tiff is a low contrast image\n",
      "  imsave(output_path, label_image)\n"
     ]
    },
    {
     "name": "stdout",
     "output_type": "stream",
     "text": [
      "Saved label to: cellpose_label_images/Channel 2-38-D-02-00_cellpose.tiff\n",
      "Processing image: images_and_model\\Channel 2-39-D-03-00.tiff\n"
     ]
    },
    {
     "name": "stderr",
     "output_type": "stream",
     "text": [
      "C:\\Users\\bruni\\AppData\\Local\\Temp\\ipykernel_10628\\3275691509.py:23: UserWarning: cellpose_label_images/Channel 2-39-D-03-00_cellpose.tiff is a low contrast image\n",
      "  imsave(output_path, label_image)\n"
     ]
    },
    {
     "name": "stdout",
     "output_type": "stream",
     "text": [
      "Saved label to: cellpose_label_images/Channel 2-39-D-03-00_cellpose.tiff\n",
      "Processing image: images_and_model\\Channel 2-40-D-04-00.tiff\n"
     ]
    },
    {
     "name": "stderr",
     "output_type": "stream",
     "text": [
      "C:\\Users\\bruni\\AppData\\Local\\Temp\\ipykernel_10628\\3275691509.py:23: UserWarning: cellpose_label_images/Channel 2-40-D-04-00_cellpose.tiff is a low contrast image\n",
      "  imsave(output_path, label_image)\n"
     ]
    },
    {
     "name": "stdout",
     "output_type": "stream",
     "text": [
      "Saved label to: cellpose_label_images/Channel 2-40-D-04-00_cellpose.tiff\n",
      "Processing image: images_and_model\\Channel 2-41-D-05-00.tiff\n"
     ]
    },
    {
     "name": "stderr",
     "output_type": "stream",
     "text": [
      "C:\\Users\\bruni\\AppData\\Local\\Temp\\ipykernel_10628\\3275691509.py:23: UserWarning: cellpose_label_images/Channel 2-41-D-05-00_cellpose.tiff is a low contrast image\n",
      "  imsave(output_path, label_image)\n"
     ]
    },
    {
     "name": "stdout",
     "output_type": "stream",
     "text": [
      "Saved label to: cellpose_label_images/Channel 2-41-D-05-00_cellpose.tiff\n",
      "Processing image: images_and_model\\Channel 2-42-D-06-00.tiff\n"
     ]
    },
    {
     "name": "stderr",
     "output_type": "stream",
     "text": [
      "C:\\Users\\bruni\\AppData\\Local\\Temp\\ipykernel_10628\\3275691509.py:23: UserWarning: cellpose_label_images/Channel 2-42-D-06-00_cellpose.tiff is a low contrast image\n",
      "  imsave(output_path, label_image)\n"
     ]
    },
    {
     "name": "stdout",
     "output_type": "stream",
     "text": [
      "Saved label to: cellpose_label_images/Channel 2-42-D-06-00_cellpose.tiff\n",
      "Processing image: images_and_model\\Channel 2-43-D-07-00.tiff\n"
     ]
    },
    {
     "name": "stderr",
     "output_type": "stream",
     "text": [
      "C:\\Users\\bruni\\AppData\\Local\\Temp\\ipykernel_10628\\3275691509.py:23: UserWarning: cellpose_label_images/Channel 2-43-D-07-00_cellpose.tiff is a low contrast image\n",
      "  imsave(output_path, label_image)\n"
     ]
    },
    {
     "name": "stdout",
     "output_type": "stream",
     "text": [
      "Saved label to: cellpose_label_images/Channel 2-43-D-07-00_cellpose.tiff\n",
      "Processing image: images_and_model\\Channel 2-44-D-08-00.tiff\n"
     ]
    },
    {
     "name": "stderr",
     "output_type": "stream",
     "text": [
      "C:\\Users\\bruni\\AppData\\Local\\Temp\\ipykernel_10628\\3275691509.py:23: UserWarning: cellpose_label_images/Channel 2-44-D-08-00_cellpose.tiff is a low contrast image\n",
      "  imsave(output_path, label_image)\n"
     ]
    },
    {
     "name": "stdout",
     "output_type": "stream",
     "text": [
      "Saved label to: cellpose_label_images/Channel 2-44-D-08-00_cellpose.tiff\n",
      "Processing image: images_and_model\\Channel 2-45-D-09-00.tiff\n"
     ]
    },
    {
     "name": "stderr",
     "output_type": "stream",
     "text": [
      "C:\\Users\\bruni\\AppData\\Local\\Temp\\ipykernel_10628\\3275691509.py:23: UserWarning: cellpose_label_images/Channel 2-45-D-09-00_cellpose.tiff is a low contrast image\n",
      "  imsave(output_path, label_image)\n"
     ]
    },
    {
     "name": "stdout",
     "output_type": "stream",
     "text": [
      "Saved label to: cellpose_label_images/Channel 2-45-D-09-00_cellpose.tiff\n",
      "Processing image: images_and_model\\Channel 2-46-D-10-00.tiff\n"
     ]
    },
    {
     "name": "stderr",
     "output_type": "stream",
     "text": [
      "C:\\Users\\bruni\\AppData\\Local\\Temp\\ipykernel_10628\\3275691509.py:23: UserWarning: cellpose_label_images/Channel 2-46-D-10-00_cellpose.tiff is a low contrast image\n",
      "  imsave(output_path, label_image)\n"
     ]
    },
    {
     "name": "stdout",
     "output_type": "stream",
     "text": [
      "Saved label to: cellpose_label_images/Channel 2-46-D-10-00_cellpose.tiff\n",
      "Processing image: images_and_model\\Channel 2-47-D-11-00.tiff\n"
     ]
    },
    {
     "name": "stderr",
     "output_type": "stream",
     "text": [
      "C:\\Users\\bruni\\AppData\\Local\\Temp\\ipykernel_10628\\3275691509.py:23: UserWarning: cellpose_label_images/Channel 2-47-D-11-00_cellpose.tiff is a low contrast image\n",
      "  imsave(output_path, label_image)\n"
     ]
    },
    {
     "name": "stdout",
     "output_type": "stream",
     "text": [
      "Saved label to: cellpose_label_images/Channel 2-47-D-11-00_cellpose.tiff\n",
      "Processing image: images_and_model\\Channel 2-48-D-12-00.tiff\n",
      "Saved label to: cellpose_label_images/Channel 2-48-D-12-00_cellpose.tiff\n"
     ]
    },
    {
     "name": "stderr",
     "output_type": "stream",
     "text": [
      "C:\\Users\\bruni\\AppData\\Local\\Temp\\ipykernel_10628\\3275691509.py:23: UserWarning: cellpose_label_images/Channel 2-48-D-12-00_cellpose.tiff is a low contrast image\n",
      "  imsave(output_path, label_image)\n"
     ]
    }
   ],
   "source": [
    "model = models.CellposeModel(gpu=True, pretrained_model = 'images_and_model/models/my_cellpose_model')  # if no GPU, set gpu=False\n",
    "channels = [0,0]\n",
    "flow_threshold = 0.8\n",
    "\n",
    "\n",
    "\n",
    "tiff_files = np.sort(glob.glob('images_and_model/*Channel*.tiff'))\n",
    "\n",
    "\n",
    "output_folder = 'cellpose_label_images/'\n",
    "if not os.path.exists(output_folder):\n",
    "    os.makedirs(output_folder)\n",
    "\n",
    "for img_path in tiff_files:\n",
    "    print(\"Processing image:\", img_path)\n",
    "    \n",
    "    try:\n",
    "        image = imread(img_path)\n",
    "        #run cellpose\n",
    "        label_image, flows, styles = model.eval(image, flow_threshold=flow_threshold, \n",
    "                                               channels=channels)\n",
    "        output_path = os.path.join(output_folder, f\"{os.path.splitext(os.path.basename(img_path))[0]}_cellpose.tiff\")\n",
    "        imsave(output_path, label_image)\n",
    "        print(f\"Saved label to: {output_path}\")\n",
    "        \n",
    "    except Exception as e:\n",
    "        print(f\"Error processing {img_path}: {e}\")\n",
    "# For loop for running nuclear segmentation, generation of eroded and ring labels and quantification\n",
    "\n",
    "   \n",
    "    \n",
    "    \n",
    "    \n",
    "\n",
    "   \n",
    "        \n",
    "\n"
   ]
  },
  {
   "cell_type": "code",
   "execution_count": 18,
   "id": "86753b8e",
   "metadata": {},
   "outputs": [
    {
     "name": "stderr",
     "output_type": "stream",
     "text": [
      "WARNING: QWindowsWindow::setGeometry: Unable to set geometry 1086x661+960+283 (frame: 1102x700+952+252) on QWidgetWindow/\"_QtMainWindowClassWindow\" on \"\\\\.\\DISPLAY6\". Resulting geometry: 867x527+959+276 (frame: 883x566+951+245) margins: 8, 31, 8, 8 minimum size: 385x511 MINMAXINFO maxSize=0,0 maxpos=0,0 mintrack=401,550 maxtrack=0,0)\n"
     ]
    },
    {
     "data": {
      "text/plain": [
       "<Image layer 'image' at 0x1746c8f6080>"
      ]
     },
     "execution_count": 18,
     "metadata": {},
     "output_type": "execute_result"
    }
   ],
   "source": [
    "dataset_path = Path('images_and_model/')\n",
    "viewer = napari.Viewer()\n",
    "viewer.window.resize(1800, 1000)\n",
    "viewer.open(sorted(dataset_path.glob(\"*Channel*.tiff\")), stack=True)\n",
    "image = viewer.layers[0].data\n",
    "viewer.add_image(image, visible=True)"
   ]
  },
  {
   "cell_type": "code",
   "execution_count": 19,
   "id": "a97a9313-b9f7-4e0f-ac6c-b0f167982281",
   "metadata": {},
   "outputs": [
    {
     "name": "stderr",
     "output_type": "stream",
     "text": [
      "WARNING: QWindowsWindow::setGeometry: Unable to set geometry 1086x661+960+283 (frame: 1102x700+952+252) on QWidgetWindow/\"_QtMainWindowClassWindow\" on \"\\\\.\\DISPLAY6\". Resulting geometry: 867x527+959+276 (frame: 883x566+951+245) margins: 8, 31, 8, 8 minimum size: 385x511 MINMAXINFO maxSize=0,0 maxpos=0,0 mintrack=401,550 maxtrack=0,0)\n"
     ]
    },
    {
     "data": {
      "text/plain": [
       "<Image layer 'image' at 0x17453b87c10>"
      ]
     },
     "execution_count": 19,
     "metadata": {},
     "output_type": "execute_result"
    }
   ],
   "source": [
    "dataset_path = Path('cellpose_label_images/')\n",
    "viewer = napari.Viewer()\n",
    "viewer.window.resize(1800, 1000)\n",
    "viewer.open(sorted(dataset_path.glob(\"*Channel*.tiff\")), stack=True)\n",
    "cellpose_label = viewer.layers[0].data\n",
    "viewer.add_labels(cellpose_label, visible=True)\n",
    "viewer.add_image(image, visible=True)"
   ]
  }
 ],
 "metadata": {
  "kernelspec": {
   "display_name": "Python 3 (ipykernel)",
   "language": "python",
   "name": "python3"
  },
  "language_info": {
   "codemirror_mode": {
    "name": "ipython",
    "version": 3
   },
   "file_extension": ".py",
   "mimetype": "text/x-python",
   "name": "python",
   "nbconvert_exporter": "python",
   "pygments_lexer": "ipython3",
   "version": "3.10.13"
  },
  "varInspector": {
   "cols": {
    "lenName": 16,
    "lenType": 16,
    "lenVar": 40
   },
   "kernels_config": {
    "python": {
     "delete_cmd_postfix": "",
     "delete_cmd_prefix": "del ",
     "library": "var_list.py",
     "varRefreshCmd": "print(var_dic_list())"
    },
    "r": {
     "delete_cmd_postfix": ") ",
     "delete_cmd_prefix": "rm(",
     "library": "var_list.r",
     "varRefreshCmd": "cat(var_dic_list()) "
    }
   },
   "types_to_exclude": [
    "module",
    "function",
    "builtin_function_or_method",
    "instance",
    "_Feature"
   ],
   "window_display": false
  }
 },
 "nbformat": 4,
 "nbformat_minor": 5
}
