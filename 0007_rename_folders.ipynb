{
 "cells": [
  {
   "cell_type": "markdown",
   "id": "7709b3e7-3072-46f1-b233-b3deac21b66a",
   "metadata": {},
   "source": [
    "# Rename files"
   ]
  },
  {
   "cell_type": "code",
   "execution_count": 18,
   "id": "10a3fc95-6df6-48cd-9a3c-45dd94ec1f6d",
   "metadata": {
    "scrolled": true
   },
   "outputs": [],
   "source": [
    "#ATTENTION: YOU CAN NOT UNDO IT!!!!!\n",
    "import os\n",
    "\n",
    "# Function to rename multiple files\n",
    "def main():\n",
    "\ti = 1\n",
    "\tpath=\"controle_experimento_1/\"\n",
    "\tfor filename in os.listdir(path):\n",
    "\t\tnew_name =\"control_exp_1_\" + str(i) + \".bmp\"\n",
    "\t\tmy_source =path + filename\n",
    "\t\tnew_name =path + new_name\n",
    "\t\t\n",
    "\t\tos.rename(my_source, new_name)\n",
    "\t\ti += 1\n",
    "# Driver Code\n",
    "if __name__ == '__main__':\n",
    "\t# Calling main() function\n",
    "\tmain()"
   ]
  },
  {
   "cell_type": "code",
   "execution_count": null,
   "id": "3f558d6b-9c68-4e20-98c2-9ad7d71ac07d",
   "metadata": {},
   "outputs": [],
   "source": []
  }
 ],
 "metadata": {
  "kernelspec": {
   "display_name": "Python 3 (ipykernel)",
   "language": "python",
   "name": "python3"
  },
  "language_info": {
   "codemirror_mode": {
    "name": "ipython",
    "version": 3
   },
   "file_extension": ".py",
   "mimetype": "text/x-python",
   "name": "python",
   "nbconvert_exporter": "python",
   "pygments_lexer": "ipython3",
   "version": "3.11.5"
  }
 },
 "nbformat": 4,
 "nbformat_minor": 5
}
